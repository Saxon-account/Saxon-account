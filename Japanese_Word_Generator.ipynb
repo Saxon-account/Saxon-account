{
  "nbformat": 4,
  "nbformat_minor": 0,
  "metadata": {
    "colab": {
      "provenance": [],
      "authorship_tag": "ABX9TyOpYDeD2avksdkUKaAVMb53",
      "include_colab_link": true
    },
    "kernelspec": {
      "name": "python3",
      "display_name": "Python 3"
    },
    "language_info": {
      "name": "python"
    }
  },
  "cells": [
    {
      "cell_type": "markdown",
      "metadata": {
        "id": "view-in-github",
        "colab_type": "text"
      },
      "source": [
        "<a href=\"https://colab.research.google.com/github/Saxon-account/Saxon-account/blob/main/Japanese_Word_Generator.ipynb\" target=\"_parent\"><img src=\"https://colab.research.google.com/assets/colab-badge.svg\" alt=\"Open In Colab\"/></a>"
      ]
    },
    {
      "cell_type": "markdown",
      "source": [
        "# New Japanese Word a Day Generator\n",
        "- Generates a new noun, adjective, or verb and displays according information\n",
        "- Noun: Generates word itself\n",
        "- Adjective: Generates word and states if \"na\" or \"i\" adjective\n",
        "- Verb: Generates dictionary-form verb (Add tense display functionality later maybe)"
      ],
      "metadata": {
        "id": "4ExdHh4LhbJW"
      }
    },
    {
      "cell_type": "code",
      "execution_count": 2,
      "metadata": {
        "id": "SI3BVhKahZ-_"
      },
      "outputs": [],
      "source": [
        "import urllib.request\n",
        "import json\n",
        "response = urllib.request.urlopen(\"https://jisho.org/api/v1/search/words?keyword=house\")\n",
        "html = response.read().decode('utf-8')\n",
        "data = json.loads(html)"
      ]
    },
    {
      "cell_type": "code",
      "source": [
        "import urllib.request\n",
        "import json\n",
        "import regex as re\n",
        "import random\n",
        "\n",
        "try:\n",
        "\n",
        "    if data and 'data' in data and data['data']:\n",
        "        word_data = random.choice(data['data'])\n",
        "\n",
        "        if 'japanese' in word_data and isinstance(word_data['japanese'], list):\n",
        "            for japanese_representation in word_data['japanese']:\n",
        "\n",
        "              if 'word' in japanese_representation:\n",
        "                  word = japanese_representation['word'] # Assign word to variable\n",
        "                  reading = japanese_representation.get('reading')  # Get reading, default to None if not found\n",
        "                  formatted_word = \"\"\n",
        "                  kanji_regex = re.compile(r'([\\p{Han}]+)') # Matches one or more kanji characters using regex module\n",
        "                  last_end = 0\n",
        "                  for match in kanji_regex.finditer(word):\n",
        "                      start, end = match.span()\n",
        "                      formatted_word += word[last_end:start]\n",
        "\n",
        "                      if reading: # Check if 'reading' exists and isn't None\n",
        "                            formatted_word += f\"{word[start:end+1]}({reading[start:end+1]})\"\n",
        "                      else:\n",
        "                            formatted_word += word[start:end]  # No reading, keep the original word\n",
        "                      last_end = end\n",
        "\n",
        "                  formatted_word += word[last_end:] # Add any remaining characters after the last kanji match\n",
        "                  print(formatted_word)\n",
        "                  break\n",
        "\n",
        "        if 'senses' in word_data and isinstance(word_data['senses'], list):\n",
        "            for senses_representation in word_data['senses']:\n",
        "              if 'english_definitions' in senses_representation:\n",
        "                definition = senses_representation['english_definitions'] # Assign definitions to variable\n",
        "                print(definition)\n",
        "    else:\n",
        "        print(\"No data found in the JSON response.\")\n",
        "\n",
        "except urllib.error.URLError as e:\n",
        "    print(f\"An error occurred: {e}\")\n",
        "except json.JSONDecodeError as e:\n",
        "    print(f\"Error decoding JSON: {e}\")"
      ],
      "metadata": {
        "colab": {
          "base_uri": "https://localhost:8080/"
        },
        "id": "DxGRVP58nFvm",
        "outputId": "3fd9551f-b1c3-4884-c10a-a0f212f13336"
      },
      "execution_count": null,
      "outputs": [
        {
          "output_type": "stream",
          "name": "stdout",
          "text": [
            "人家(じんか)\n",
            "['house', 'dwelling', 'human habitation']\n"
          ]
        }
      ]
    },
    {
      "cell_type": "markdown",
      "source": [
        "Update with https://www.edrdg.org/wiki/index.php/JMdict-EDICT_Dictionary_Project later :v"
      ],
      "metadata": {
        "id": "LZyUMnzYyu3w"
      }
    }
  ]
}