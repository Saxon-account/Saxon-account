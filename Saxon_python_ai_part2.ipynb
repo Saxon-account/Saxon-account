{
  "nbformat": 4,
  "nbformat_minor": 0,
  "metadata": {
    "colab": {
      "provenance": [],
      "authorship_tag": "ABX9TyNUd61Tw/I2OJdmdG5jxZBr",
      "include_colab_link": true
    },
    "kernelspec": {
      "name": "python3",
      "display_name": "Python 3"
    },
    "language_info": {
      "name": "python"
    }
  },
  "cells": [
    {
      "cell_type": "markdown",
      "metadata": {
        "id": "view-in-github",
        "colab_type": "text"
      },
      "source": [
        "<a href=\"https://colab.research.google.com/github/Saxon-account/Saxon-account/blob/main/Saxon_python_ai_part2.ipynb\" target=\"_parent\"><img src=\"https://colab.research.google.com/assets/colab-badge.svg\" alt=\"Open In Colab\"/></a>"
      ]
    },
    {
      "cell_type": "markdown",
      "source": [
        "We will learn:\n",
        "* Numpy\n",
        "* matplotlib\n",
        "* pandas"
      ],
      "metadata": {
        "id": "i4SWLZnnF0tQ"
      }
    },
    {
      "cell_type": "markdown",
      "source": [],
      "metadata": {
        "id": "KLQAuNmEFy1T"
      }
    },
    {
      "cell_type": "markdown",
      "source": [
        "# Numpy\n",
        "What is Numpy? And what is it used for? How is it different from using a python list?\n",
        "\n",
        "Numpy array\n",
        "- fixed array\n",
        "- same datatype\n",
        "- static array\n",
        "- more efficient"
      ],
      "metadata": {
        "id": "2oHL64oSF44h"
      }
    },
    {
      "cell_type": "markdown",
      "source": [
        "Import Numpy package"
      ],
      "metadata": {
        "id": "0yB8R95-ThZj"
      }
    },
    {
      "cell_type": "code",
      "source": [
        "import numpy as np"
      ],
      "metadata": {
        "id": "GxzhvIfCTpaz"
      },
      "execution_count": null,
      "outputs": []
    },
    {
      "cell_type": "markdown",
      "source": [
        "## Arrays\n"
      ],
      "metadata": {
        "id": "E1gOSb_4T103"
      }
    },
    {
      "cell_type": "code",
      "source": [
        "# Create a numpy array of rank 1 from a python list [1, 2, 3]\n",
        "pl = [1, 2, 3]\n",
        "a = np.array(pl)\n",
        "print(pl)\n",
        "print(a)"
      ],
      "metadata": {
        "colab": {
          "base_uri": "https://localhost:8080/"
        },
        "id": "uOsbo_ERS6_I",
        "outputId": "8848e8d8-1473-4899-d0d0-4075727d7857"
      },
      "execution_count": null,
      "outputs": [
        {
          "output_type": "stream",
          "name": "stdout",
          "text": [
            "[1, 2, 3]\n",
            "[1 2 3]\n"
          ]
        }
      ]
    },
    {
      "cell_type": "code",
      "source": [
        "# Print type\n",
        "print(type(pl))\n",
        "print(type(a))"
      ],
      "metadata": {
        "colab": {
          "base_uri": "https://localhost:8080/"
        },
        "id": "DLUsZodsU8hE",
        "outputId": "d53692a1-648d-41dc-8d61-afa6bcee98ed"
      },
      "execution_count": null,
      "outputs": [
        {
          "output_type": "stream",
          "name": "stdout",
          "text": [
            "<class 'list'>\n",
            "<class 'numpy.ndarray'>\n"
          ]
        }
      ]
    },
    {
      "cell_type": "code",
      "source": [
        "print(a.shape)"
      ],
      "metadata": {
        "colab": {
          "base_uri": "https://localhost:8080/"
        },
        "id": "l8ohRqe3VUHR",
        "outputId": "b4fe5846-83e8-4382-cfee-97999d16e37b"
      },
      "execution_count": null,
      "outputs": [
        {
          "output_type": "stream",
          "name": "stdout",
          "text": [
            "(3,)\n"
          ]
        }
      ]
    },
    {
      "cell_type": "code",
      "source": [
        "# Create a rank 2 array with dimensions 2 rows and 3 columns\n",
        "\n",
        "x = np.zeros((2,3))\n",
        "print(x)"
      ],
      "metadata": {
        "colab": {
          "base_uri": "https://localhost:8080/"
        },
        "id": "GYw30CWFY6Jc",
        "outputId": "86508291-c30b-4b66-f3a2-9cabce23f912"
      },
      "execution_count": null,
      "outputs": [
        {
          "output_type": "stream",
          "name": "stdout",
          "text": [
            "[[0. 0. 0.]\n",
            " [0. 0. 0.]]\n"
          ]
        }
      ]
    },
    {
      "cell_type": "code",
      "source": [
        "# Create an identity matrix of size 3\n",
        "\n",
        "id = np.eye(3)\n",
        "print(id)"
      ],
      "metadata": {
        "colab": {
          "base_uri": "https://localhost:8080/"
        },
        "id": "7if1Tnb-ZgUN",
        "outputId": "5029c705-9442-4f55-f06b-b2370ff96dab"
      },
      "execution_count": null,
      "outputs": [
        {
          "output_type": "stream",
          "name": "stdout",
          "text": [
            "[[1. 0. 0.]\n",
            " [0. 1. 0.]\n",
            " [0. 0. 1.]]\n"
          ]
        }
      ]
    },
    {
      "cell_type": "code",
      "source": [
        "# Create and print a 3D numpy array [[[1,2,3],[4,5,6]][[7,8,9],[10,11,12]]]\n",
        "b = np.array([[[1,2,3],[4,5,6]],[[7,8,9],[10,11,12]]])\n",
        "print(b)"
      ],
      "metadata": {
        "colab": {
          "base_uri": "https://localhost:8080/"
        },
        "id": "t8dhyFd4VedW",
        "outputId": "ebcf507d-4832-4fca-847c-01174118f672"
      },
      "execution_count": null,
      "outputs": [
        {
          "output_type": "stream",
          "name": "stdout",
          "text": [
            "[[[ 1  2  3]\n",
            "  [ 4  5  6]]\n",
            "\n",
            " [[ 7  8  9]\n",
            "  [10 11 12]]]\n"
          ]
        }
      ]
    },
    {
      "cell_type": "code",
      "source": [
        "# Create an array of all 0's w dimensions (2, 3, 2)\n",
        "c = np.array([[[0,0],[0,0],[0,0]],[[0,0],[0,0],[0,0]]])\n",
        "print(c)\n",
        "print(c.shape)"
      ],
      "metadata": {
        "colab": {
          "base_uri": "https://localhost:8080/"
        },
        "id": "O1ItmcCxVjo_",
        "outputId": "0275aec9-8fb3-4bac-89ea-cec42af4d405"
      },
      "execution_count": null,
      "outputs": [
        {
          "output_type": "stream",
          "name": "stdout",
          "text": [
            "[[[0 0]\n",
            "  [0 0]\n",
            "  [0 0]]\n",
            "\n",
            " [[0 0]\n",
            "  [0 0]\n",
            "  [0 0]]]\n",
            "(2, 3, 2)\n"
          ]
        }
      ]
    },
    {
      "cell_type": "code",
      "source": [
        "# Create a random array\n",
        "rand = np.random.random((2, 3))\n",
        "print(rand)"
      ],
      "metadata": {
        "colab": {
          "base_uri": "https://localhost:8080/"
        },
        "id": "tS3aAkKtY2xB",
        "outputId": "797ad003-4cf3-4710-97ec-3a7c2a68958a"
      },
      "execution_count": null,
      "outputs": [
        {
          "output_type": "stream",
          "name": "stdout",
          "text": [
            "[[0.6776057  0.79364021 0.50512753]\n",
            " [0.59572773 0.90361312 0.08593851]]\n"
          ]
        }
      ]
    },
    {
      "cell_type": "markdown",
      "source": [
        "#Array Indexing"
      ],
      "metadata": {
        "id": "SwViJen4pmmX"
      }
    },
    {
      "cell_type": "code",
      "source": [
        "# Create 2D array [1,2,3], [4,5,6]\n",
        "# Access and print 2\n",
        "\n",
        "x = np.array([[1, 2, 3],[4, 5, 6]])\n",
        "print(twoD[0,1])"
      ],
      "metadata": {
        "colab": {
          "base_uri": "https://localhost:8080/"
        },
        "id": "PA8Ur8Vspowx",
        "outputId": "dcc75607-7928-44a9-dc76-aaf8d4995077"
      },
      "execution_count": null,
      "outputs": [
        {
          "output_type": "stream",
          "name": "stdout",
          "text": [
            "2\n"
          ]
        }
      ]
    },
    {
      "cell_type": "code",
      "source": [
        "# Shape\n",
        "print(x.shape)"
      ],
      "metadata": {
        "colab": {
          "base_uri": "https://localhost:8080/"
        },
        "id": "9GoIfg2NqQpX",
        "outputId": "851fe56c-d88d-453e-f727-ab19f7614a58"
      },
      "execution_count": null,
      "outputs": [
        {
          "output_type": "stream",
          "name": "stdout",
          "text": [
            "(2, 3)\n"
          ]
        }
      ]
    },
    {
      "cell_type": "code",
      "source": [
        "# Access a sub matrix [2, 3, 5, 6]\n",
        "print(x[:, 1: ])\n"
      ],
      "metadata": {
        "colab": {
          "base_uri": "https://localhost:8080/"
        },
        "id": "MkGJLL0Rqf30",
        "outputId": "3173e406-4feb-48f7-b0a1-d3abdad126ab"
      },
      "execution_count": null,
      "outputs": [
        {
          "output_type": "stream",
          "name": "stdout",
          "text": [
            "[[2 3]\n",
            " [5 6]]\n"
          ]
        }
      ]
    },
    {
      "cell_type": "code",
      "source": [
        "# Reshape [1 2 3 4 5 6]\n",
        "print(x.reshape(6))\n",
        "\n",
        "print(x.reshape(3,2))\n",
        "\n",
        "print(x.reshape(2,3))"
      ],
      "metadata": {
        "colab": {
          "base_uri": "https://localhost:8080/"
        },
        "id": "5hrs956Xry45",
        "outputId": "0040e85d-5dd0-4da6-cc65-e23203c02780"
      },
      "execution_count": null,
      "outputs": [
        {
          "output_type": "stream",
          "name": "stdout",
          "text": [
            "[1 2 3 4 5 6]\n",
            "[[1 2]\n",
            " [3 4]\n",
            " [5 6]]\n",
            "[[1 2 3]\n",
            " [4 5 6]]\n"
          ]
        }
      ]
    },
    {
      "cell_type": "code",
      "source": [
        "# Slicing\n",
        "y= x[:, 1: ]\n",
        "print(y, y.shape)"
      ],
      "metadata": {
        "colab": {
          "base_uri": "https://localhost:8080/"
        },
        "id": "L3hiCEBCsPcl",
        "outputId": "746a5149-a0df-450a-b7a0-3a0c580e0b1a"
      },
      "execution_count": null,
      "outputs": [
        {
          "output_type": "stream",
          "name": "stdout",
          "text": [
            "[[2 3]\n",
            " [5 6]] (2, 2)\n"
          ]
        }
      ]
    },
    {
      "cell_type": "code",
      "source": [
        "y[0,0] = 10\n",
        "print(y)\n",
        "print(x)"
      ],
      "metadata": {
        "colab": {
          "base_uri": "https://localhost:8080/"
        },
        "id": "6rUZZS3Vsc5x",
        "outputId": "1277ccce-0341-4277-ae5a-e22be287abe2"
      },
      "execution_count": null,
      "outputs": [
        {
          "output_type": "stream",
          "name": "stdout",
          "text": [
            "[[10  3]\n",
            " [ 5  6]]\n",
            "[[ 1 10  3]\n",
            " [ 4  5  6]]\n"
          ]
        }
      ]
    },
    {
      "cell_type": "code",
      "source": [
        "# Try slicing with python list and updating\n",
        "# Assign slice to another variable and update new variable\n",
        "list = [1,2,3,4,5,6]\n",
        "y = list[:]"
      ],
      "metadata": {
        "id": "jgCsdPU6sp44"
      },
      "execution_count": null,
      "outputs": []
    },
    {
      "cell_type": "code",
      "source": [
        "a = np.array([1, 2, 3, 4, 5])\n",
        "# 3 and 5\n",
        "a[2], a[4]\n",
        "# or\n",
        "indices = [2, 4]\n",
        "a[indices]"
      ],
      "metadata": {
        "colab": {
          "base_uri": "https://localhost:8080/"
        },
        "id": "awqMubPc4dEx",
        "outputId": "840eb276-40a9-4fcc-d2b2-06887dfaad4b"
      },
      "execution_count": null,
      "outputs": [
        {
          "output_type": "execute_result",
          "data": {
            "text/plain": [
              "array([3, 5])"
            ]
          },
          "metadata": {},
          "execution_count": 56
        }
      ]
    },
    {
      "cell_type": "code",
      "source": [
        "# 2D array\n",
        "x = np.array([[1,2,3],[4,5,6]])\n",
        "\n",
        "# Print 2 and 6 and 3\n",
        "# 2 -> [0, 1]\n",
        "# 6 -> [1, 2]\n",
        "# 3 -> [0, 2]\n",
        "\n",
        "row_indices = [0, 1, 0]\n",
        "col_indices = [1, 2, 2]\n",
        "x[row_indices, col_indices]"
      ],
      "metadata": {
        "colab": {
          "base_uri": "https://localhost:8080/"
        },
        "id": "sXAX5wi25EeF",
        "outputId": "e8d2219c-98b9-47d2-b770-f9dbff753c60"
      },
      "execution_count": null,
      "outputs": [
        {
          "output_type": "execute_result",
          "data": {
            "text/plain": [
              "array([2, 6, 3])"
            ]
          },
          "metadata": {},
          "execution_count": 60
        }
      ]
    },
    {
      "cell_type": "code",
      "source": [
        "# Data type of array elements\n",
        "type(x[1, 2])\n",
        "\n",
        "print(x.dtype)"
      ],
      "metadata": {
        "colab": {
          "base_uri": "https://localhost:8080/"
        },
        "id": "6r23DK1150bI",
        "outputId": "1b37d2b8-b4a6-4514-c1ca-a1d4b54e4ea6"
      },
      "execution_count": null,
      "outputs": [
        {
          "output_type": "stream",
          "name": "stdout",
          "text": [
            "int64\n"
          ]
        }
      ]
    },
    {
      "cell_type": "markdown",
      "source": [
        "#Boolean array indexing"
      ],
      "metadata": {
        "id": "tlg9zJFk6YE5"
      }
    },
    {
      "cell_type": "code",
      "source": [
        "x = np.array([[1,2,3],[4,5,6]])\n",
        "\n",
        "bool_indices = (x % 2 ==0)\n",
        "print(bool_indices)"
      ],
      "metadata": {
        "colab": {
          "base_uri": "https://localhost:8080/"
        },
        "id": "5nVWLDp06aeH",
        "outputId": "6cc45165-8cd7-4412-a935-057efeba6ca2"
      },
      "execution_count": null,
      "outputs": [
        {
          "output_type": "stream",
          "name": "stdout",
          "text": [
            "[[False  True False]\n",
            " [ True False  True]]\n"
          ]
        }
      ]
    },
    {
      "cell_type": "code",
      "source": [
        "x[bool_indices]"
      ],
      "metadata": {
        "colab": {
          "base_uri": "https://localhost:8080/"
        },
        "id": "XH63qMPE7ItK",
        "outputId": "d3095c2e-cca3-4389-d65c-e75d493e450e"
      },
      "execution_count": null,
      "outputs": [
        {
          "output_type": "execute_result",
          "data": {
            "text/plain": [
              "array([2, 4, 6])"
            ]
          },
          "metadata": {},
          "execution_count": 70
        }
      ]
    },
    {
      "cell_type": "code",
      "source": [
        "x[x%2==0]"
      ],
      "metadata": {
        "colab": {
          "base_uri": "https://localhost:8080/"
        },
        "id": "Uc8DuNsl7euo",
        "outputId": "4477ed11-71e1-45c8-9ca3-9c4e5e6131c7"
      },
      "execution_count": null,
      "outputs": [
        {
          "output_type": "execute_result",
          "data": {
            "text/plain": [
              "array([2, 4, 6])"
            ]
          },
          "metadata": {},
          "execution_count": 71
        }
      ]
    },
    {
      "cell_type": "markdown",
      "source": [
        "## Data type"
      ],
      "metadata": {
        "id": "8JxpVzlc7mbn"
      }
    },
    {
      "cell_type": "code",
      "source": [
        "x = np.array([1.0, 2.5], dtype = np.int64)\n",
        "x.dtype"
      ],
      "metadata": {
        "colab": {
          "base_uri": "https://localhost:8080/"
        },
        "id": "LW9xD2Pq7pSo",
        "outputId": "cac2315f-877e-4398-d56d-9a887afd0480"
      },
      "execution_count": null,
      "outputs": [
        {
          "output_type": "execute_result",
          "data": {
            "text/plain": [
              "dtype('int64')"
            ]
          },
          "metadata": {},
          "execution_count": 76
        }
      ]
    },
    {
      "cell_type": "code",
      "source": [
        "print(x)"
      ],
      "metadata": {
        "colab": {
          "base_uri": "https://localhost:8080/"
        },
        "id": "Cl5iRpL375lb",
        "outputId": "c4c2c010-82d5-47fd-e8f3-db70b87203c5"
      },
      "execution_count": null,
      "outputs": [
        {
          "output_type": "stream",
          "name": "stdout",
          "text": [
            "[1 2]\n"
          ]
        }
      ]
    },
    {
      "cell_type": "markdown",
      "source": [
        "## Array Math"
      ],
      "metadata": {
        "id": "rWOz5_iY8L93"
      }
    },
    {
      "cell_type": "code",
      "source": [
        "x = np.array([[1, 2], [3, 4]], dtype = np.float64)\n",
        "y = np.array([[5, 6], [7, 8]], dtype = np.float64)\n",
        "\n",
        "print(x)\n",
        "print(y)\n",
        "\n"
      ],
      "metadata": {
        "colab": {
          "base_uri": "https://localhost:8080/"
        },
        "id": "Hwnd0-kO8Oec",
        "outputId": "94a4744e-ee19-481b-ca02-bc3cf2431b07"
      },
      "execution_count": null,
      "outputs": [
        {
          "output_type": "stream",
          "name": "stdout",
          "text": [
            "[[1. 2.]\n",
            " [3. 4.]]\n",
            "[[5. 6.]\n",
            " [7. 8.]]\n"
          ]
        }
      ]
    },
    {
      "cell_type": "code",
      "source": [
        "# Elementwise\n",
        "# add\n",
        "x + y\n",
        "# subtract\n",
        "x - y\n",
        "# multiply\n",
        "x * y\n",
        "# divide\n",
        "x / y"
      ],
      "metadata": {
        "colab": {
          "base_uri": "https://localhost:8080/"
        },
        "id": "IsFs22Wg8rem",
        "outputId": "7e84ed4a-116d-4b35-9f1c-3076500786a8"
      },
      "execution_count": null,
      "outputs": [
        {
          "output_type": "execute_result",
          "data": {
            "text/plain": [
              "array([[0.2       , 0.33333333],\n",
              "       [0.42857143, 0.5       ]])"
            ]
          },
          "metadata": {},
          "execution_count": 85
        }
      ]
    },
    {
      "cell_type": "code",
      "source": [
        "# Elementwise functions\n",
        "np.sqrt(x)"
      ],
      "metadata": {
        "colab": {
          "base_uri": "https://localhost:8080/"
        },
        "id": "ab08iHYd9L4_",
        "outputId": "897bee6d-51a7-4ed1-ee00-129e30fe6fbd"
      },
      "execution_count": null,
      "outputs": [
        {
          "output_type": "execute_result",
          "data": {
            "text/plain": [
              "array([[1.        , 1.41421356],\n",
              "       [1.73205081, 2.        ]])"
            ]
          },
          "metadata": {},
          "execution_count": 87
        }
      ]
    },
    {
      "cell_type": "code",
      "source": [
        "# Dot product\n",
        "v = np.array([1, 2])\n",
        "w = np.array([3, 4])\n",
        "\n",
        "print(np.dot(v, w))\n",
        "print(v.dot(w))\n",
        "print(v @ w)"
      ],
      "metadata": {
        "colab": {
          "base_uri": "https://localhost:8080/"
        },
        "id": "2VOwrE889dyD",
        "outputId": "31d2e9f0-3099-405c-8dff-834b5cbee592"
      },
      "execution_count": null,
      "outputs": [
        {
          "output_type": "stream",
          "name": "stdout",
          "text": [
            "11\n",
            "11\n",
            "11\n"
          ]
        }
      ]
    },
    {
      "cell_type": "code",
      "source": [
        "x = np.array([[1, 2, 3], [4, 5, 6]])\n",
        "\n",
        "print(x)\n",
        "print(np.sum(x, axis=0))\n",
        "print(np.sum(x, axis=1))"
      ],
      "metadata": {
        "colab": {
          "base_uri": "https://localhost:8080/"
        },
        "id": "eV1t4gwr-Jj4",
        "outputId": "ecabc6eb-78a4-4c74-a616-d6a9e12c3314"
      },
      "execution_count": null,
      "outputs": [
        {
          "output_type": "stream",
          "name": "stdout",
          "text": [
            "[[1 2 3]\n",
            " [4 5 6]]\n",
            "[5 7 9]\n",
            "[ 6 15]\n"
          ]
        }
      ]
    },
    {
      "cell_type": "code",
      "source": [
        "# Max, row max\n",
        "# Min, row min\n",
        "print(x.max())\n",
        "print(x.min())"
      ],
      "metadata": {
        "colab": {
          "base_uri": "https://localhost:8080/"
        },
        "id": "0xtLZZPt_ODL",
        "outputId": "93a25a90-13e1-4c31-d7b8-ce889edc9280"
      },
      "execution_count": null,
      "outputs": [
        {
          "output_type": "execute_result",
          "data": {
            "text/plain": [
              "1"
            ]
          },
          "metadata": {},
          "execution_count": 97
        }
      ]
    },
    {
      "cell_type": "markdown",
      "source": [
        "## Broadcasting"
      ],
      "metadata": {
        "id": "bdKImZ4b_U4E"
      }
    },
    {
      "cell_type": "code",
      "source": [
        "x = np.array([[1, 2, 3], [4, 5, 6], [7, 8, 9], [10, 11, 12]])\n",
        "v = np.array([1, 0, 1])"
      ],
      "metadata": {
        "colab": {
          "base_uri": "https://localhost:8080/"
        },
        "id": "w7OMJsrW_WQn",
        "outputId": "9f503425-84cf-4197-9aed-9bafbea4aec9"
      },
      "execution_count": null,
      "outputs": [
        {
          "output_type": "execute_result",
          "data": {
            "text/plain": [
              "(4, 3)"
            ]
          },
          "metadata": {},
          "execution_count": 98
        }
      ]
    },
    {
      "cell_type": "code",
      "source": [
        "x.shape"
      ],
      "metadata": {
        "id": "Y1xFTgnM_tkv"
      },
      "execution_count": null,
      "outputs": []
    },
    {
      "cell_type": "code",
      "source": [
        "v.shape"
      ],
      "metadata": {
        "id": "XYUHB9yF_t3I"
      },
      "execution_count": null,
      "outputs": []
    },
    {
      "cell_type": "code",
      "source": [
        "print(x)\n",
        "print(x+v) #Makes copies of v to fit dimensions of x"
      ],
      "metadata": {
        "colab": {
          "base_uri": "https://localhost:8080/"
        },
        "id": "CJJLmyEf_vJv",
        "outputId": "fed2b2ca-e8b5-4df2-a33f-072bbca11a2b"
      },
      "execution_count": null,
      "outputs": [
        {
          "output_type": "stream",
          "name": "stdout",
          "text": [
            "[[ 1  2  3]\n",
            " [ 4  5  6]\n",
            " [ 7  8  9]\n",
            " [10 11 12]]\n",
            "[[ 2  2  4]\n",
            " [ 5  5  7]\n",
            " [ 8  8 10]\n",
            " [11 11 13]]\n"
          ]
        }
      ]
    },
    {
      "cell_type": "markdown",
      "source": [
        "Use matplotlib library to plot a sine function"
      ],
      "metadata": {
        "id": "pwnijisbAM3p"
      }
    },
    {
      "cell_type": "code",
      "source": [
        "import matplotlib as mpl"
      ],
      "metadata": {
        "id": "HhzN-aVxAYra"
      },
      "execution_count": null,
      "outputs": []
    },
    {
      "cell_type": "code",
      "source": [],
      "metadata": {
        "id": "31J7uTEWAd2p"
      },
      "execution_count": null,
      "outputs": []
    }
  ]
}