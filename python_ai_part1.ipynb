{
  "nbformat": 4,
  "nbformat_minor": 0,
  "metadata": {
    "colab": {
      "provenance": [],
      "toc_visible": true,
      "include_colab_link": true
    },
    "kernelspec": {
      "name": "python3",
      "display_name": "Python 3"
    },
    "language_info": {
      "name": "python"
    }
  },
  "cells": [
    {
      "cell_type": "markdown",
      "metadata": {
        "id": "view-in-github",
        "colab_type": "text"
      },
      "source": [
        "<a href=\"https://colab.research.google.com/github/Saxon-account/Saxon-account/blob/main/python_ai_part1.ipynb\" target=\"_parent\"><img src=\"https://colab.research.google.com/assets/colab-badge.svg\" alt=\"Open In Colab\"/></a>"
      ]
    },
    {
      "cell_type": "markdown",
      "source": [
        "In this tutorial, we will cover Basic Python in this Google Colab environment.\n",
        "\n",
        "\n",
        "\n",
        "1.   Basic data types (Containers, Lists, Dictionaries)\n",
        "2.   Functions\n",
        "3.   Classes\n",
        "\n",
        "\n",
        "\n",
        "\n",
        "\n"
      ],
      "metadata": {
        "id": "2az3t672znAH"
      }
    },
    {
      "cell_type": "markdown",
      "source": [
        "# A Brief Note on Python Versions\n",
        "As of Janurary 1, 2020, Python has officially dropped support for python2. We'll be using Python 3.7 for this iteration of the course. You can check your Python version at the command line by running `python --version`. In Colab, we can enforce the Python version by clicking `Runtime -> Change Runtime Type` and selecting `python3`. Note that as of April 2020, Colab uses Python 3.6.9 which should run everything without any errors."
      ],
      "metadata": {
        "id": "DD2ORk0O0bdi"
      }
    },
    {
      "cell_type": "code",
      "source": [
        "# Check python version\n",
        "\n",
        "!python --version"
      ],
      "metadata": {
        "id": "j9YZ0Lly0oEk",
        "colab": {
          "base_uri": "https://localhost:8080/"
        },
        "outputId": "d4ec27b1-d6b2-4896-a7c5-333c0848d39c"
      },
      "execution_count": null,
      "outputs": [
        {
          "output_type": "stream",
          "name": "stdout",
          "text": [
            "Python 3.10.12\n"
          ]
        }
      ]
    },
    {
      "cell_type": "markdown",
      "source": [
        "* Python is a high-level, *dynamically typed* multiparadigm programming language.\n",
        "* Python code is often said to be *almost like pseudocode*, since it allows you to express very powerful ideas in very few lines of code while being very readable.\n",
        "\n",
        "As an example, here is an implementation of the classic quicksort algorithm in Python:"
      ],
      "metadata": {
        "id": "OLDJ_vc_2Uot"
      }
    },
    {
      "cell_type": "markdown",
      "source": [
        "**What do we mean by dynamically typed programming language?**\n",
        "\n",
        "*Datatype assigned to a variable at runtime based on variable value*\n",
        "\n"
      ],
      "metadata": {
        "id": "mMuoNTFB2mKW"
      }
    },
    {
      "cell_type": "code",
      "source": [
        "def quicksort(arr):\n",
        "    if len(arr) <= 1:\n",
        "        return arr\n",
        "    pivot = arr[len(arr) // 2]\n",
        "    left = [x for x in arr if x < pivot]\n",
        "    middle = [x for x in arr if x == pivot]\n",
        "    right = [x for x in arr if x > pivot]\n",
        "    return quicksort(left) + middle + quicksort(right)\n",
        "\n",
        "print(quicksort([3,6,8,10,1,2,1]))"
      ],
      "metadata": {
        "colab": {
          "base_uri": "https://localhost:8080/"
        },
        "id": "l9jydL0226x3",
        "outputId": "8de0cc11-fabf-41fa-9295-3db433bf7aa6"
      },
      "execution_count": null,
      "outputs": [
        {
          "output_type": "stream",
          "name": "stdout",
          "text": [
            "[1, 1, 2, 3, 6, 8, 10]\n"
          ]
        }
      ]
    },
    {
      "cell_type": "markdown",
      "source": [
        "# Basic Data Types"
      ],
      "metadata": {
        "id": "4hPpHf2I3Utu"
      }
    },
    {
      "cell_type": "markdown",
      "source": [
        "## Numbers"
      ],
      "metadata": {
        "id": "q7mS-EHb3Xtp"
      }
    },
    {
      "cell_type": "markdown",
      "source": [
        "Integers and floats work as you would expect from other languages like Java:"
      ],
      "metadata": {
        "id": "Ue72mETr3jvL"
      }
    },
    {
      "cell_type": "code",
      "source": [
        "# create a variable x, initialize it to 10\n",
        "# print x and its data type\n",
        "\n",
        "x = 10"
      ],
      "metadata": {
        "id": "ClYtUXGy3aPL"
      },
      "execution_count": null,
      "outputs": []
    },
    {
      "cell_type": "code",
      "source": [
        "# Addition - add 1 to x and print\n",
        "\n",
        "print(x+1)\n",
        "\n",
        "# Subtraction - subtract 1 from x and print\n",
        "\n",
        "print(x-1)\n",
        "\n",
        "# Multiplication - multiply x by 2 and print\n",
        "\n",
        "print(x*2)\n",
        "\n",
        "# Exponentiation - print the result of x to the power of 2\n",
        "\n",
        "print(pow(x,2))\n"
      ],
      "metadata": {
        "id": "daQrgt4R38ub",
        "colab": {
          "base_uri": "https://localhost:8080/"
        },
        "outputId": "af0ab83a-cf8e-42b7-e3da-7d5ceab89383"
      },
      "execution_count": null,
      "outputs": [
        {
          "output_type": "stream",
          "name": "stdout",
          "text": [
            "11\n",
            "9\n",
            "20\n",
            "100\n"
          ]
        }
      ]
    },
    {
      "cell_type": "code",
      "source": [
        "# Increment x by 2, save it to itself and print\n",
        "\n",
        "x = x+2\n",
        "print(x)\n",
        "\n",
        "# Decrement x by 2, save it to itself and print\n",
        "\n",
        "x = x-2\n",
        "print(x)\n",
        "\n",
        "# Multiply x by 2, save it to itself and print\n",
        "\n",
        "x = x*2\n",
        "print(x)\n",
        "\n",
        "# Divide x by 2, save it to itself and print\n",
        "\n",
        "x = x/2\n",
        "print(x)"
      ],
      "metadata": {
        "id": "yvZQyNiV4Yhv",
        "colab": {
          "base_uri": "https://localhost:8080/"
        },
        "outputId": "9fa29a0e-f1f7-48bb-877c-fc947879f38c"
      },
      "execution_count": null,
      "outputs": [
        {
          "output_type": "stream",
          "name": "stdout",
          "text": [
            "12\n",
            "10\n",
            "20\n",
            "10.0\n"
          ]
        }
      ]
    },
    {
      "cell_type": "code",
      "source": [
        "# Working with floats\n",
        "y = 2.5\n",
        "\n",
        "# print type of y\n",
        "\n",
        "print(type(y))\n",
        "\n",
        "print(y, y + 1, y * 2, y ** 2)"
      ],
      "metadata": {
        "id": "F3l9h42g466v",
        "colab": {
          "base_uri": "https://localhost:8080/"
        },
        "outputId": "6329df4d-8dc5-4d97-b61e-ff8e95307149"
      },
      "execution_count": null,
      "outputs": [
        {
          "output_type": "stream",
          "name": "stdout",
          "text": [
            "<class 'float'>\n",
            "2.5 3.5 5.0 6.25\n"
          ]
        }
      ]
    },
    {
      "cell_type": "markdown",
      "source": [
        "Note that unlike many languages, Python does not have unary increment (x++) or decrement (x--) operators."
      ],
      "metadata": {
        "id": "qfLsxinN5G0v"
      }
    },
    {
      "cell_type": "markdown",
      "source": [
        "## Booleans"
      ],
      "metadata": {
        "id": "ESiMO9JD5N2N"
      }
    },
    {
      "cell_type": "markdown",
      "source": [
        "Python implements all of the usual operators for Boolean logic, but uses English words rather than symbols (&&, ||, etc.):"
      ],
      "metadata": {
        "id": "gQfECIeD5by6"
      }
    },
    {
      "cell_type": "code",
      "source": [
        "t, f = True, False\n",
        "\n",
        "# print type of t and f\n",
        "\n",
        "print(type(t))\n",
        "print(type(f))"
      ],
      "metadata": {
        "id": "RODV_UsP5GVv",
        "colab": {
          "base_uri": "https://localhost:8080/"
        },
        "outputId": "ce3303be-c4a8-4eea-8284-bf87bd88ef03"
      },
      "execution_count": null,
      "outputs": [
        {
          "output_type": "stream",
          "name": "stdout",
          "text": [
            "<class 'bool'>\n",
            "<class 'bool'>\n"
          ]
        }
      ]
    },
    {
      "cell_type": "code",
      "source": [
        "# Logical AND\n",
        "\n",
        "print(t and f)\n",
        "\n",
        "# Logical OR\n",
        "\n",
        "print(t or f)\n",
        "\n",
        "# Logical NOT\n",
        "\n",
        "print(not f)\n",
        "\n",
        "# Logical XOR\n",
        "\n",
        "print(f != t)"
      ],
      "metadata": {
        "id": "ZrBnT12t5JR_",
        "colab": {
          "base_uri": "https://localhost:8080/"
        },
        "outputId": "177fcf97-5c51-4154-abb1-e7f99c85f354"
      },
      "execution_count": null,
      "outputs": [
        {
          "output_type": "stream",
          "name": "stdout",
          "text": [
            "False\n",
            "True\n",
            "True\n",
            "True\n"
          ]
        }
      ]
    },
    {
      "cell_type": "markdown",
      "source": [
        "## Strings"
      ],
      "metadata": {
        "id": "8qD7Uf3K6UQ-"
      }
    },
    {
      "cell_type": "code",
      "source": [
        "hello = 'hello'   # String literals can use single quotes\n",
        "world = \"world\"   # or double quotes; it does not matter\n",
        "\n",
        "# print hello and its length\n",
        "\n",
        "print(hello, len(hello))\n"
      ],
      "metadata": {
        "id": "HdBSUeYt6BVg",
        "colab": {
          "base_uri": "https://localhost:8080/"
        },
        "outputId": "9a623887-67a5-4414-8430-8b910e129f62"
      },
      "execution_count": null,
      "outputs": [
        {
          "output_type": "stream",
          "name": "stdout",
          "text": [
            "hello 5\n"
          ]
        }
      ]
    },
    {
      "cell_type": "code",
      "source": [
        "hw12 = '{} {} {}'.format(hello, world, 12)  # string formatting\n",
        "print(hw12)"
      ],
      "metadata": {
        "colab": {
          "base_uri": "https://localhost:8080/"
        },
        "id": "sZ3ubOPu6PUR",
        "outputId": "0c8e7f7e-cf35-43cd-d490-825dfedc1b0c"
      },
      "execution_count": null,
      "outputs": [
        {
          "output_type": "stream",
          "name": "stdout",
          "text": [
            "hello world 12\n"
          ]
        }
      ]
    },
    {
      "cell_type": "markdown",
      "source": [
        "String objects have a bunch of useful methods; for example:"
      ],
      "metadata": {
        "id": "ynxnxFiD6c3-"
      }
    },
    {
      "cell_type": "code",
      "source": [
        "s = \"hello\"\n",
        "# Capitalize a string\n",
        "\n",
        "print(s.capitalize())\n",
        "\n",
        "# Convert a string to uppercase; prints \"HELLO\"\n",
        "\n",
        "print(s.upper())\n",
        "\n",
        "# Right-justify a string, padding with spaces\n",
        "\n",
        "print(s.rjust(50))\n",
        "\n",
        "# Center a string, padding with spaces\n",
        "\n",
        "print(s.center(7))\n",
        "\n",
        "# Replace all instances of one substring with another\n",
        "\n",
        "print(s.replace(\"h\", \"e\"))\n",
        "\n",
        "# Strip leading and trailing whitespace\n",
        "\n",
        "print(s.strip())"
      ],
      "metadata": {
        "id": "RHHTVH8B6e1S",
        "colab": {
          "base_uri": "https://localhost:8080/"
        },
        "outputId": "b03cb463-a8e5-4e88-ad94-e94d01bb9807"
      },
      "execution_count": null,
      "outputs": [
        {
          "output_type": "stream",
          "name": "stdout",
          "text": [
            "Hello\n",
            "HELLO\n",
            "                                             hello\n",
            " hello \n",
            "eello\n",
            "hello\n"
          ]
        }
      ]
    },
    {
      "cell_type": "markdown",
      "source": [
        "# Containers"
      ],
      "metadata": {
        "id": "HhSLReQ869M_"
      }
    },
    {
      "cell_type": "markdown",
      "source": [
        "## Lists"
      ],
      "metadata": {
        "id": "H9t7Sgv27Jkr"
      }
    },
    {
      "cell_type": "markdown",
      "source": [
        "A list is the Python equivalent of an array, but is resizeable and can contain elements of different types:"
      ],
      "metadata": {
        "id": "Ns64Dnhx7Pzo"
      }
    },
    {
      "cell_type": "code",
      "source": [
        "xs = [3, 1, 2]   # Create a list\n",
        "\n",
        "# print the list\n",
        "\n",
        "print(xs)\n",
        "\n",
        "# print the length of the list\n",
        "\n",
        "print(len(xs))\n",
        "\n",
        "# print the second element in the list\n",
        "\n",
        "print(xs[1])\n",
        "\n",
        "# Negative indices count from the end of the list; print the element \"2\"\n",
        "\n",
        "print(xs[-1])\n",
        "\n",
        "# Lists can contain elements of different types\n",
        "\n",
        "t = True\n",
        "xs.insert(3, t)"
      ],
      "metadata": {
        "id": "zsWBt4Pj68r8",
        "colab": {
          "base_uri": "https://localhost:8080/"
        },
        "outputId": "822d9dc2-a64a-42e5-8efd-ff7475d67a92"
      },
      "execution_count": null,
      "outputs": [
        {
          "output_type": "stream",
          "name": "stdout",
          "text": [
            "[3, 1, 2]\n",
            "3\n",
            "1\n",
            "2\n"
          ]
        }
      ]
    },
    {
      "cell_type": "code",
      "source": [
        "# Lists can contain elements of different types\n",
        "\n",
        "# Set element at index 2 of the list to a string 'foo'\n",
        "\n",
        "xs[2] = 'foo'\n",
        "\n",
        "print(xs)"
      ],
      "metadata": {
        "id": "8MCLQ3yVAqQV",
        "colab": {
          "base_uri": "https://localhost:8080/"
        },
        "outputId": "f7ac4ff9-f4f7-40ac-d5f6-349d70a80eae"
      },
      "execution_count": null,
      "outputs": [
        {
          "output_type": "stream",
          "name": "stdout",
          "text": [
            "[3, 1, 'foo', True]\n"
          ]
        }
      ]
    },
    {
      "cell_type": "code",
      "source": [
        "# Add a new element - string 'bar' - to the end of the list\n",
        "\n",
        "xs.append('bar')\n",
        "\n",
        "print(xs)"
      ],
      "metadata": {
        "id": "iRlNjDFUBGoe",
        "colab": {
          "base_uri": "https://localhost:8080/"
        },
        "outputId": "2a6ccce7-e1d3-42d3-e54e-46d2af45a819"
      },
      "execution_count": null,
      "outputs": [
        {
          "output_type": "stream",
          "name": "stdout",
          "text": [
            "[3, 1, 'foo', True, 'bar']\n"
          ]
        }
      ]
    },
    {
      "cell_type": "code",
      "source": [
        "# Remove and return the last element of the list\n",
        "\n",
        "print(xs.pop())\n",
        "\n",
        "print(x, xs)"
      ],
      "metadata": {
        "id": "d_0TAsPtBS4k",
        "colab": {
          "base_uri": "https://localhost:8080/"
        },
        "outputId": "d548e691-603e-4aed-8477-228f75ba0c01"
      },
      "execution_count": null,
      "outputs": [
        {
          "output_type": "stream",
          "name": "stdout",
          "text": [
            "bar\n",
            "10.0 [3, 1, 'foo', True]\n"
          ]
        }
      ]
    },
    {
      "cell_type": "markdown",
      "source": [
        "## Slicing"
      ],
      "metadata": {
        "id": "hKiz7YBIaVnB"
      }
    },
    {
      "cell_type": "markdown",
      "source": [
        "In addition to accessing list elements one at a time, Python provides concise syntax to access sublists; this is known as slicing:"
      ],
      "metadata": {
        "id": "XLeepwNgageS"
      }
    },
    {
      "cell_type": "code",
      "source": [
        "# range is a built-in function that creates a list of integers\n",
        "nums = list(range(5))\n",
        "print(nums)"
      ],
      "metadata": {
        "colab": {
          "base_uri": "https://localhost:8080/"
        },
        "id": "zafM-YCBaaOm",
        "outputId": "718ff986-9b60-4d21-e974-dc6f0cf711c3"
      },
      "execution_count": null,
      "outputs": [
        {
          "output_type": "stream",
          "name": "stdout",
          "text": [
            "[0, 1, 2, 3, 4]\n"
          ]
        }
      ]
    },
    {
      "cell_type": "code",
      "source": [
        "# Get a slice from index 2 to 4 (exclusive); prints \"[2, 3]\"\n",
        "\n",
        "print(nums[2:4])\n",
        "\n"
      ],
      "metadata": {
        "id": "BaJg4qvEaynt",
        "colab": {
          "base_uri": "https://localhost:8080/"
        },
        "outputId": "611f5159-c5aa-41ac-d5cd-722f9bd3bd6a"
      },
      "execution_count": null,
      "outputs": [
        {
          "output_type": "stream",
          "name": "stdout",
          "text": [
            "[2, 3]\n"
          ]
        }
      ]
    },
    {
      "cell_type": "code",
      "source": [
        "# Get a slice from index 2 to the end; prints \"[2, 3, 4]\"\n",
        "\n",
        "print(nums[2:])\n"
      ],
      "metadata": {
        "id": "jExwiX0Wa4mm",
        "colab": {
          "base_uri": "https://localhost:8080/"
        },
        "outputId": "44a0dcd9-5a26-4775-d3ae-a539f38f2284"
      },
      "execution_count": null,
      "outputs": [
        {
          "output_type": "stream",
          "name": "stdout",
          "text": [
            "[2, 3, 4]\n"
          ]
        }
      ]
    },
    {
      "cell_type": "code",
      "source": [
        "# Get a slice from the start to index 2 (exclusive); prints \"[0, 1]\"\n",
        "\n",
        "print(nums[:2])"
      ],
      "metadata": {
        "id": "g0Vd7B0sbFWr",
        "colab": {
          "base_uri": "https://localhost:8080/"
        },
        "outputId": "019c35bd-9787-4270-c99b-986fc89e33cb"
      },
      "execution_count": null,
      "outputs": [
        {
          "output_type": "stream",
          "name": "stdout",
          "text": [
            "[0, 1]\n"
          ]
        }
      ]
    },
    {
      "cell_type": "code",
      "source": [
        "# Get a slice of the whole list; prints [\"0, 1, 2, 3, 4]\"\n",
        "\n",
        "print(nums[:])"
      ],
      "metadata": {
        "id": "IvPLmeNrbXeC",
        "colab": {
          "base_uri": "https://localhost:8080/"
        },
        "outputId": "84338851-793a-4ce4-cecc-f42f4b1eb109"
      },
      "execution_count": null,
      "outputs": [
        {
          "output_type": "stream",
          "name": "stdout",
          "text": [
            "[0, 1, 2, 3, 4]\n"
          ]
        }
      ]
    },
    {
      "cell_type": "code",
      "source": [
        "# Slice indices can be negative; prints [\"0, 1, 2, 3]\"\n",
        "\n",
        "print(nums[:-1])"
      ],
      "metadata": {
        "id": "NgKFY5T0bZuV",
        "colab": {
          "base_uri": "https://localhost:8080/"
        },
        "outputId": "5ec6785b-3472-4e5a-8b67-e9048528929d"
      },
      "execution_count": null,
      "outputs": [
        {
          "output_type": "stream",
          "name": "stdout",
          "text": [
            "[0, 1, 2, 3]\n"
          ]
        }
      ]
    },
    {
      "cell_type": "code",
      "source": [
        "nums[2:4] = [8, 9] # Assign a new sublist to a slice\n",
        "print(nums)         # Prints \"[0, 1, 8, 9, 4]\""
      ],
      "metadata": {
        "colab": {
          "base_uri": "https://localhost:8080/"
        },
        "id": "I-PZQ9aWbiBC",
        "outputId": "7ed315f6-f989-4d14-a52e-f2f3e77cd84b"
      },
      "execution_count": null,
      "outputs": [
        {
          "output_type": "stream",
          "name": "stdout",
          "text": [
            "[0, 1, 8, 9, 4]\n"
          ]
        }
      ]
    },
    {
      "cell_type": "markdown",
      "source": [
        "## Loops"
      ],
      "metadata": {
        "id": "tXPQ0rqHbpMs"
      }
    },
    {
      "cell_type": "markdown",
      "source": [
        "You can loop over the elements of a list like this:"
      ],
      "metadata": {
        "id": "oyn0_jUybxHd"
      }
    },
    {
      "cell_type": "code",
      "source": [
        "animals = ['cat', 'dog', 'monkey']\n",
        "for animal in animals:\n",
        "    print(animal)"
      ],
      "metadata": {
        "colab": {
          "base_uri": "https://localhost:8080/"
        },
        "id": "BnOHl3Q-bsVu",
        "outputId": "5a536171-5b74-4599-9940-16a53a7b0828"
      },
      "execution_count": null,
      "outputs": [
        {
          "output_type": "stream",
          "name": "stdout",
          "text": [
            "cat\n",
            "dog\n",
            "monkey\n"
          ]
        }
      ]
    },
    {
      "cell_type": "markdown",
      "source": [
        "If you want access to the index of each element within the body of a loop, use the built-in `enumerate` function:"
      ],
      "metadata": {
        "id": "ufzAK2jwcxNh"
      }
    },
    {
      "cell_type": "code",
      "source": [
        "animals = ['cat', 'dog', 'monkey']\n",
        "for idx, animal in enumerate(animals):\n",
        "    print(idx+1, animals[idx])"
      ],
      "metadata": {
        "id": "IGalXl52csd3",
        "colab": {
          "base_uri": "https://localhost:8080/"
        },
        "outputId": "6a6e5de0-1c23-477a-a5ce-6fe033722c8e"
      },
      "execution_count": null,
      "outputs": [
        {
          "output_type": "stream",
          "name": "stdout",
          "text": [
            "1 cat\n",
            "2 dog\n",
            "3 monkey\n"
          ]
        }
      ]
    },
    {
      "cell_type": "markdown",
      "source": [
        "## List comprehensions"
      ],
      "metadata": {
        "id": "YPVtnoINc-az"
      }
    },
    {
      "cell_type": "markdown",
      "source": [
        "When programming, frequently we want to transform one type of data into another. As a simple example, consider the following code that computes square numbers:"
      ],
      "metadata": {
        "id": "oEFaZjKtdK6S"
      }
    },
    {
      "cell_type": "code",
      "source": [
        "nums = [0, 1, 2, 3, 4]\n",
        "squares = []\n",
        "for x in nums:\n",
        "    squares.append(x ** 2)\n",
        "print(squares)"
      ],
      "metadata": {
        "colab": {
          "base_uri": "https://localhost:8080/"
        },
        "id": "SLtVOHEHdCea",
        "outputId": "24d1d03a-46a1-4b86-9d8a-8c45255f2eb5"
      },
      "execution_count": null,
      "outputs": [
        {
          "output_type": "stream",
          "name": "stdout",
          "text": [
            "[0, 1, 4, 9, 16]\n"
          ]
        }
      ]
    },
    {
      "cell_type": "markdown",
      "source": [
        "You can make this code simpler using a list comprehension:"
      ],
      "metadata": {
        "id": "q4lOgDYbdTXK"
      }
    },
    {
      "cell_type": "code",
      "source": [
        "nums = [0, 1, 2, 3, 4]\n",
        "squares = [nums]\n",
        "\n",
        "print(squares)"
      ],
      "metadata": {
        "id": "ZWRbVvFSdSf-",
        "colab": {
          "base_uri": "https://localhost:8080/"
        },
        "outputId": "64680f9a-d65e-45a0-f389-bc2e48bfb035"
      },
      "execution_count": null,
      "outputs": [
        {
          "output_type": "stream",
          "name": "stdout",
          "text": [
            "[[0, 1, 2, 3, 4]]\n"
          ]
        }
      ]
    },
    {
      "cell_type": "markdown",
      "source": [
        "List comprehensions can also contain conditions:"
      ],
      "metadata": {
        "id": "H1v0jVFfdhKP"
      }
    },
    {
      "cell_type": "code",
      "source": [
        "nums = [0, 1, 2, 3, 4]\n",
        "even_squares = []\n",
        "for x in nums:\n",
        "  if x % 2 == 0:\n",
        "    even_squares.append(x)\n",
        "\n",
        "print(even_squares)"
      ],
      "metadata": {
        "id": "qQxvWJ-Ydh1N",
        "colab": {
          "base_uri": "https://localhost:8080/"
        },
        "outputId": "1761c011-7cbd-4e88-84e5-3dc7e38424bd"
      },
      "execution_count": null,
      "outputs": [
        {
          "output_type": "stream",
          "name": "stdout",
          "text": [
            "[0, 2, 4]\n"
          ]
        }
      ]
    },
    {
      "cell_type": "markdown",
      "source": [
        "## Dictionary"
      ],
      "metadata": {
        "id": "ZCErNLhtdqgK"
      }
    },
    {
      "cell_type": "markdown",
      "source": [
        "A dictionary stores (key, value) pairs, similar to a `Map` in Java or an object in Javascript. You can use it like this:"
      ],
      "metadata": {
        "id": "loOOT2GwdwDX"
      }
    },
    {
      "cell_type": "code",
      "source": [
        "d = {'cat': 'cute', 'dog': 'furry'}  # Create a new dictionary with some data\n",
        "\n",
        "# Get an entry from a dictionary; prints \"cute\"\n",
        "\n",
        "print(d.get('cat'))\n",
        "\n",
        "# Check if a dictionary has a given key; prints \"True\"\n",
        "\n",
        "key = 'dog'\n",
        "for x in d:\n",
        "  if x == key:\n",
        "    {\n",
        "        print(\"True\")\n",
        "    }\n"
      ],
      "metadata": {
        "id": "cfdWLNEedsaA",
        "colab": {
          "base_uri": "https://localhost:8080/"
        },
        "outputId": "d69d82bc-a867-413d-f231-fdc8cd805d16"
      },
      "execution_count": null,
      "outputs": [
        {
          "output_type": "stream",
          "name": "stdout",
          "text": [
            "cute\n",
            "True\n"
          ]
        }
      ]
    },
    {
      "cell_type": "code",
      "source": [
        "d['fish'] = 'wet'    # Set an entry in a dictionary\n",
        "print(d['fish'])      # Prints \"wet\""
      ],
      "metadata": {
        "id": "N3VLhaoheFqb",
        "colab": {
          "base_uri": "https://localhost:8080/"
        },
        "outputId": "a6a0f674-12a2-43e5-c708-47341d6f1167"
      },
      "execution_count": null,
      "outputs": [
        {
          "output_type": "stream",
          "name": "stdout",
          "text": [
            "wet\n"
          ]
        }
      ]
    },
    {
      "cell_type": "code",
      "source": [
        "print(d['monkey'])  # KeyError: 'monkey' not a key of d"
      ],
      "metadata": {
        "id": "kKgObCXMeKz0",
        "colab": {
          "base_uri": "https://localhost:8080/",
          "height": 144
        },
        "outputId": "b0bc99ba-baef-406c-b476-34c4635d2026"
      },
      "execution_count": null,
      "outputs": [
        {
          "output_type": "error",
          "ename": "KeyError",
          "evalue": "'monkey'",
          "traceback": [
            "\u001b[0;31m---------------------------------------------------------------------------\u001b[0m",
            "\u001b[0;31mKeyError\u001b[0m                                  Traceback (most recent call last)",
            "\u001b[0;32m<ipython-input-34-78fc9745d9cf>\u001b[0m in \u001b[0;36m<cell line: 1>\u001b[0;34m()\u001b[0m\n\u001b[0;32m----> 1\u001b[0;31m \u001b[0mprint\u001b[0m\u001b[0;34m(\u001b[0m\u001b[0md\u001b[0m\u001b[0;34m[\u001b[0m\u001b[0;34m'monkey'\u001b[0m\u001b[0;34m]\u001b[0m\u001b[0;34m)\u001b[0m  \u001b[0;31m# KeyError: 'monkey' not a key of d\u001b[0m\u001b[0;34m\u001b[0m\u001b[0;34m\u001b[0m\u001b[0m\n\u001b[0m",
            "\u001b[0;31mKeyError\u001b[0m: 'monkey'"
          ]
        }
      ]
    },
    {
      "cell_type": "code",
      "source": [
        "print(d.get('monkey', 'N/A'))  # Get an element with a default; prints \"N/A\"\n",
        "print(d.get('fish', 'N/A'))    # Get an element with a default; prints \"wet\""
      ],
      "metadata": {
        "id": "x7RyxMjseSEr"
      },
      "execution_count": null,
      "outputs": []
    },
    {
      "cell_type": "code",
      "source": [
        "del d['fish']        # Remove an element from a dictionary\n",
        "print(d.get('fish', 'N/A')) # \"fish\" is no longer a key; prints \"N/A\""
      ],
      "metadata": {
        "id": "mRkAVvyVeZls"
      },
      "execution_count": null,
      "outputs": []
    },
    {
      "cell_type": "markdown",
      "source": [
        "It is easy to iterate over the keys in a dictionary:"
      ],
      "metadata": {
        "id": "y3LEjxZEefKt"
      }
    },
    {
      "cell_type": "code",
      "source": [
        "d = {'person': 2, 'cat': 4, 'spider': 8}\n",
        "for animal, legs in d.items():\n",
        "    print('A {} has {} legs'.format(animal, legs))"
      ],
      "metadata": {
        "id": "KubrxQT6ef1b"
      },
      "execution_count": null,
      "outputs": []
    },
    {
      "cell_type": "markdown",
      "source": [
        "Dictionary comprehensions: These are similar to list comprehensions, but allow you to easily construct dictionaries. For example:"
      ],
      "metadata": {
        "id": "pJ__ZELBetbt"
      }
    },
    {
      "cell_type": "code",
      "source": [
        "nums = [0, 1, 2, 3, 4]\n",
        "even_num_to_square = {x: x ** 2 for x in nums if x % 2 == 0}\n",
        "print(even_num_to_square)"
      ],
      "metadata": {
        "id": "10ay_uO4enhE"
      },
      "execution_count": null,
      "outputs": []
    },
    {
      "cell_type": "code",
      "source": [
        "# Print odd numbers squares using dictionary comprehensions\n",
        "\n",
        "odd_num_to_square = {x: x**2 for x in nums if x % 2 != 0}\n",
        "print(odd_num_to_square)"
      ],
      "metadata": {
        "id": "TttJElPxe30k"
      },
      "execution_count": null,
      "outputs": []
    },
    {
      "cell_type": "markdown",
      "source": [
        "# Functions\n",
        "\n",
        "Python functions are defined using the `def` keyword. For example:"
      ],
      "metadata": {
        "id": "C0JBMGiJgHF5"
      }
    },
    {
      "cell_type": "code",
      "source": [
        "nums = [-1, 0, 1]\n",
        "\n",
        "# Function to check the sign of the number\n",
        "\n",
        "def sign(num):\n",
        "\n",
        "    if num < 0:\n",
        "      print(\"NEGATIVE\")\n",
        "    else:\n",
        "      print(\"POSITIVE\")\n",
        "\n",
        "for x in nums:\n",
        "    print(sign(x))"
      ],
      "metadata": {
        "id": "y5AYrQQDfM0o"
      },
      "execution_count": null,
      "outputs": []
    },
    {
      "cell_type": "markdown",
      "source": [
        "We will often define functions to take optional keyword arguments, like this:"
      ],
      "metadata": {
        "id": "d1xk5kJHgn5o"
      }
    },
    {
      "cell_type": "code",
      "source": [
        "def hello(name, loud=False):\n",
        "    if loud:\n",
        "        print('HELLO, {}'.format(name.upper()))\n",
        "    else:\n",
        "        print('Hello, {}!'.format(name))\n",
        "\n",
        "hello('Bob')\n",
        "hello('Fred', loud=True)"
      ],
      "metadata": {
        "id": "e-0ccFnYghBC"
      },
      "execution_count": null,
      "outputs": []
    },
    {
      "cell_type": "markdown",
      "source": [
        "`main()` function\n",
        "\n",
        "`def main():`\n",
        "\n",
        "This defines the `main` function where the primary logic of your program will reside. You can include any code or function calls here.\n",
        "\n",
        "`if __name__ == \"__main__\":`\n",
        "\n",
        "This conditional statement checks if the script is being run directly (not imported as a module).\n",
        "`__name__` is a special variable that Python sets to `\"__main__\"` when the script is run directly. If the script is imported into another script, `__name__` will be set to the script's filename instead.\n",
        "If the script is being run directly, the `main()` function is called."
      ],
      "metadata": {
        "id": "4bRqXES1iKEJ"
      }
    },
    {
      "cell_type": "code",
      "source": [
        "def main():\n",
        "\n",
        "    print(\"This is the main function.\")\n",
        "\n",
        "    # Main code goes here\n",
        "    hello('Bob')\n",
        "    hello('Fred', loud=True)\n",
        "\n",
        "if __name__ == \"__main__\":\n",
        "    main()"
      ],
      "metadata": {
        "id": "rKtuuxYniKe_"
      },
      "execution_count": null,
      "outputs": []
    },
    {
      "cell_type": "markdown",
      "source": [
        "# Classes\n",
        "\n",
        "The syntax for defining classes in Python is straightforward:"
      ],
      "metadata": {
        "id": "fvNgMSv3gyWX"
      }
    },
    {
      "cell_type": "code",
      "source": [
        "class Greeter:\n",
        "\n",
        "    # Constructor\n",
        "    def __init__(self, name):\n",
        "        self.name = name  # Create an instance variable\n",
        "\n",
        "    # Instance method\n",
        "    def greet(self, loud=False):\n",
        "        if loud:\n",
        "          print('HELLO, {}'.format(self.name.upper()))\n",
        "        else:\n",
        "          print('Hello, {}!'.format(self.name))\n",
        "\n",
        "g = Greeter('Fred')  # Construct an instance of the Greeter class\n",
        "g.greet()            # Call an instance method; prints \"Hello, Fred\"\n",
        "g.greet(loud=True)   # Call an instance method; prints \"HELLO, FRED!\""
      ],
      "metadata": {
        "id": "Lz3fNOprg2u2"
      },
      "execution_count": null,
      "outputs": []
    },
    {
      "cell_type": "markdown",
      "source": [
        "# Student Tracker Assignment:\n",
        "\n",
        "Create a simple program that allows a user to track and display student grades. This assignment focuses on the use of lists, dictionaries, and basic class structure."
      ],
      "metadata": {
        "id": "nXHauqhZhMTk"
      }
    },
    {
      "cell_type": "markdown",
      "source": [
        "Define a Student Class:\n",
        "\n",
        "The class should have the following attributes:\n",
        "\n",
        "\n",
        "*   `name` (string): The student's name.\n",
        "*   `grades` (dictionary): A dictionary where the keys are subjects and the values are grades.\n",
        "\n",
        "The class should have methods to:\n",
        "* Add or update a grade for a subject.\n",
        "* Display the student's information, including their grades."
      ],
      "metadata": {
        "id": "bJJBnqCnjZ3K"
      }
    },
    {
      "cell_type": "code",
      "source": [
        "class Student:\n",
        "\n",
        "  def __init__(self, name, grades):\n",
        "    self.name = name\n",
        "    self.grades = grades\n",
        "\n",
        "  def update(self, subject, num):\n",
        "    self.grades[subject] = num\n",
        "\n",
        "  def displayInfo(self):\n",
        "    print(\"Student: \", self.name)\n",
        "    print(self.grades)\n",
        "\n",
        "\n",
        "s = Student(\"Pablo\", {\"Math\": 98, \"Religion\": 3, \"Computer Science\": 0})\n",
        "s.displayInfo()\n",
        "s.update(\"Math\", 50)\n",
        "s.displayInfo()\n"
      ],
      "metadata": {
        "id": "iBgPkd5ChBhd",
        "colab": {
          "base_uri": "https://localhost:8080/"
        },
        "outputId": "19bba1b4-8db7-48c7-ee24-e53ca70cb949"
      },
      "execution_count": null,
      "outputs": [
        {
          "output_type": "stream",
          "name": "stdout",
          "text": [
            "Student:  Pablo\n",
            "{'Math': 98, 'Religion': 3, 'Computer Science': 0}\n",
            "Student:  Pablo\n",
            "{'Math': 50, 'Religion': 3, 'Computer Science': 0}\n"
          ]
        }
      ]
    },
    {
      "cell_type": "markdown",
      "source": [
        "Create a Function to Manage Students:\n",
        "\n",
        "This function will:\n",
        "1. Create a list of Student objects.\n",
        "2. Add grades for each student.\n",
        "3. Display all students' information.\n"
      ],
      "metadata": {
        "id": "_D8J7bPsj8I7"
      }
    },
    {
      "cell_type": "code",
      "source": [
        "def manage_students():\n",
        "\n",
        "  mark = Student(\"Mark\", {\"Math\" : 3, \"Science\" : 45, \"English\" : 89})\n",
        "  notMark = Student(\"Not Mark\", {\"Math\" : 0, \"Science\" : 70, \"English\" : 50})\n",
        "  bob = Student(\"Bob\", {\"Math\" : 23, \"Science\" : 43, \"English\" : 60})\n",
        "  students = [mark, notMark, bob]\n",
        "\n",
        "\n",
        "  for x in students:\n",
        "    x.displayInfo()\n"
      ],
      "metadata": {
        "id": "agarttRckEIm"
      },
      "execution_count": null,
      "outputs": []
    },
    {
      "cell_type": "markdown",
      "source": [
        "Implement the Main Program:\n",
        "\n",
        "Call the `manage_students` function to run the program."
      ],
      "metadata": {
        "id": "pVb4VsChkPEn"
      }
    },
    {
      "cell_type": "code",
      "source": [
        "if __name__ == \"__main__\":\n",
        "    manage_students()"
      ],
      "metadata": {
        "id": "8BirUnrPkUlN",
        "colab": {
          "base_uri": "https://localhost:8080/"
        },
        "outputId": "32f4e9a2-690f-4808-c5aa-6ef4727b8a42"
      },
      "execution_count": null,
      "outputs": [
        {
          "output_type": "stream",
          "name": "stdout",
          "text": [
            "Student:  Mark\n",
            "{'Math': 3, 'Science': 45, 'English': 89}\n",
            "Student:  Not Mark\n",
            "{'Math': 0, 'Science': 70, 'English': 50}\n",
            "Student:  Bob\n",
            "{'Math': 23, 'Science': 43, 'English': 60}\n"
          ]
        }
      ]
    }
  ]
}